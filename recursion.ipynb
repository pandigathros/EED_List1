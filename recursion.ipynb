{
 "cells": [
  {
   "cell_type": "markdown",
   "metadata": {},
   "source": [
    "1. **Factorial Calculation**\n",
    "    - **Description**: Write a recursive function to calculate the factorial of a given non-negative integer `n`. The factorial of `n` (denoted as `n!`) is the product of all positive integers less than or equal to `n`.\n",
    "    - **Example**: \n",
    "      ```python\n",
    "      factorial(5)  # Output: 120\n",
    "      factorial(0)  # Output: 1\n",
    "      ```"
   ]
  },
  {
   "cell_type": "markdown",
   "metadata": {},
   "source": [
    "2. **Fibonacci Sequence**\n",
    "    - **Description**: Write a recursive function to generate the `n`-th Fibonacci number. The Fibonacci sequence is defined as follows: `F(0) = 0`, `F(1) = 1`, and `F(n) = F(n-1) + F(n-2)` for `n > 1`.\n",
    "    - **Example**: \n",
    "      ```python\n",
    "      fibonacci(6)  # Output: 8\n",
    "      fibonacci(10) # Output: 55\n",
    "      ```"
   ]
  },
  {
   "cell_type": "markdown",
   "metadata": {},
   "source": [
    "3. **Sum of Digits**\n",
    "    - **Description**: Write a recursive function to find the sum of the digits of a given non-negative integer `n`.\n",
    "    - **Example**: \n",
    "      ```python\n",
    "      sum_of_digits(123)  # Output: 6\n",
    "      sum_of_digits(4567) # Output: 22\n",
    "      ```"
   ]
  },
  {
   "cell_type": "markdown",
   "metadata": {},
   "source": [
    "\n",
    "4. **String Reversal**\n",
    "    - **Description**: Write a recursive function to reverse a given string.\n",
    "    - **Example**: \n",
    "      ```python\n",
    "      reverse_string(\"hello\")  # Output: \"olleh\"\n",
    "      reverse_string(\"recursion\") # Output: \"noisrucer\"\n",
    "      ```"
   ]
  },
  {
   "cell_type": "markdown",
   "metadata": {},
   "source": [
    "5. **Power Calculation**\n",
    "    - **Description**: Write a recursive function to calculate the power of a number. Given two integers `x` and `n`, compute `x` raised to the power `n` (i.e., `x^n`).\n",
    "    - **Example**: \n",
    "      ```python\n",
    "      power(2, 3)  # Output: 8\n",
    "      power(5, 0)  # Output: 1\n",
    "      ```"
   ]
  }
 ],
 "metadata": {
  "language_info": {
   "name": "python"
  }
 },
 "nbformat": 4,
 "nbformat_minor": 2
}
