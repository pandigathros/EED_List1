{
 "cells": [
  {
   "cell_type": "markdown",
   "metadata": {},
   "source": [
    "# Task 1: Book and Library\n",
    "1. Create a class `Book` with the following attributes:\n",
    "   - `title` (the book's title),\n",
    "   - `author` (the book's author),\n",
    "   - `year` (the year of publication).\n",
    "2. Add a method `get_info` that returns information about the book as a string \n",
    "   (e.g., \"Author: John Doe, Title: Python for Everyone, Year: 2020\").\n",
    "3. Create a class `Library` that manages a list of books.\n",
    "4. Add methods to:\n",
    "   - add books,\n",
    "   - remove books,\n",
    "   - display the list of books.\n",
    "5. Use the created classes to build a library, add some books, and display all of them.\n"
   ]
  },
  {
   "cell_type": "code",
   "execution_count": null,
   "metadata": {},
   "outputs": [
    {
     "name": "stdout",
     "output_type": "stream",
     "text": [
      "Hobbit J.K Rowling 2014\n",
      "Harry Potter Andrzej Maciejewski 2008\n",
      "__________________\n",
      "Harry Potter Andrzej Maciejewski 2008\n"
     ]
    }
   ],
   "source": [
    "class Book:\n",
    "    def __init__(self, title, author, year):\n",
    "        self.title = title\n",
    "        self.author = author\n",
    "        self.year = year\n",
    "\n",
    "    def get_info(self):\n",
    "        print(self.title, self.author, self.year)\n",
    "\n",
    "book1 = Book(\"Hobbit\", \"J.K Rowling\", 2014 )\n",
    "book2 = Book(\"Harry Potter\", \"Andrzej Maciejewski\", 2008)\n",
    "\n",
    "\n",
    "class Library:\n",
    "    def __init__(self):\n",
    "        self.books = []\n",
    "    def add_book(self, book):\n",
    "        self.books.append(book)\n",
    "    def display_books(self):\n",
    "        for book in self.books:\n",
    "            book.get_info()\n",
    "    def delete_book(self, book):\n",
    "        self.books.remove(book)\n",
    "        \n",
    "\n",
    "bib = Library()\n",
    "bib.add_book(book1)\n",
    "bib.add_book(book2)\n",
    "bib.display_books()\n",
    "print('__________________')\n",
    "bib.delete_book(book1)\n",
    "bib.display_books()\n",
    "\n",
    "\n",
    "\n",
    "\n",
    "# book1= Book(\"Hobbit\", \"J.K Rowling\", 2014)\n",
    "# book1.get_info()\n",
    "\n"
   ]
  },
  {
   "cell_type": "code",
   "execution_count": null,
   "metadata": {},
   "outputs": [
    {
     "name": "stdout",
     "output_type": "stream",
     "text": [
      "[]\n",
      "['QWERTY']\n"
     ]
    }
   ],
   "source": [
    "lst = []\n",
    "\n",
    "print(lst)\n",
    "\n",
    "lst.append('QWERTY')\n",
    "\n",
    "print(lst)"
   ]
  },
  {
   "cell_type": "markdown",
   "metadata": {},
   "source": [
    "# Task 2: RPG Game\n",
    "1. Create a class `Character` with the following attributes:\n",
    "   - `name` (the character's name),\n",
    "   - `health` (health points),\n",
    "   - `strength` (attack strength).\n",
    "2. Add a method `attack` that reduces the opponent's health points.\n",
    "3. Create two subclasses inheriting from `Character`: `Warrior` and `Mage`.\n",
    "   - The `Warrior` has an additional attribute `armor` that reduces incoming damage.\n",
    "   - The `Mage` has an additional attribute `mana` and can cast a spell to reduce the opponent's health.\n",
    "4. Test the functionality by creating two characters and letting them fight.\n"
   ]
  },
  {
   "cell_type": "code",
   "execution_count": null,
   "metadata": {},
   "outputs": [
    {
     "ename": "TypeError",
     "evalue": "descriptor '__init__' requires a 'super' object but received a 'str'",
     "output_type": "error",
     "traceback": [
      "\u001b[1;31m---------------------------------------------------------------------------\u001b[0m",
      "\u001b[1;31mTypeError\u001b[0m                                 Traceback (most recent call last)",
      "Cell \u001b[1;32mIn[24], line 18\u001b[0m\n\u001b[0;32m     14\u001b[0m         \u001b[38;5;28msuper\u001b[39m\u001b[38;5;241m.\u001b[39m\u001b[38;5;21m__init__\u001b[39m()\n\u001b[0;32m     15\u001b[0m         \u001b[38;5;28mself\u001b[39m\u001b[38;5;241m.\u001b[39mmana \u001b[38;5;241m=\u001b[39m mana\n\u001b[1;32m---> 18\u001b[0m warr \u001b[38;5;241m=\u001b[39m \u001b[43mWarrior\u001b[49m\u001b[43m(\u001b[49m\u001b[38;5;124;43m'\u001b[39;49m\u001b[38;5;124;43mEdzio\u001b[39;49m\u001b[38;5;124;43m'\u001b[39;49m\u001b[43m,\u001b[49m\u001b[43m \u001b[49m\u001b[38;5;241;43m100\u001b[39;49m\u001b[43m,\u001b[49m\u001b[43m \u001b[49m\u001b[38;5;241;43m10\u001b[39;49m\u001b[43m,\u001b[49m\u001b[43m \u001b[49m\u001b[38;5;241;43m5\u001b[39;49m\u001b[43m)\u001b[49m\n\u001b[0;32m     20\u001b[0m \u001b[38;5;28mprint\u001b[39m(\u001b[38;5;124mf\u001b[39m\u001b[38;5;124m\"\u001b[39m\u001b[38;5;124mName \u001b[39m\u001b[38;5;132;01m{\u001b[39;00mwarr\u001b[38;5;241m.\u001b[39mname\u001b[38;5;132;01m}\u001b[39;00m\u001b[38;5;124m, Health: \u001b[39m\u001b[38;5;132;01m{\u001b[39;00mwarr\u001b[38;5;241m.\u001b[39mhealth\u001b[38;5;132;01m}\u001b[39;00m\u001b[38;5;124m, Strength: \u001b[39m\u001b[38;5;132;01m{\u001b[39;00mwarr\u001b[38;5;241m.\u001b[39mstrength\u001b[38;5;132;01m}\u001b[39;00m\u001b[38;5;124m, Armor: \u001b[39m\u001b[38;5;132;01m{\u001b[39;00mwarr\u001b[38;5;241m.\u001b[39marmor\u001b[38;5;132;01m}\u001b[39;00m\u001b[38;5;124m\"\u001b[39m)\n",
      "Cell \u001b[1;32mIn[24], line 9\u001b[0m, in \u001b[0;36mWarrior.__init__\u001b[1;34m(self, name, health, strength, armor)\u001b[0m\n\u001b[0;32m      8\u001b[0m \u001b[38;5;28;01mdef\u001b[39;00m \u001b[38;5;21m__init__\u001b[39m(\u001b[38;5;28mself\u001b[39m,  name, health, strength ,armor):\n\u001b[1;32m----> 9\u001b[0m     \u001b[38;5;28;43msuper\u001b[39;49m\u001b[38;5;241;43m.\u001b[39;49m\u001b[38;5;21;43m__init__\u001b[39;49m\u001b[43m(\u001b[49m\u001b[43m \u001b[49m\u001b[43mname\u001b[49m\u001b[43m,\u001b[49m\u001b[43m \u001b[49m\u001b[43mhealth\u001b[49m\u001b[43m,\u001b[49m\u001b[43m \u001b[49m\u001b[43mstrength\u001b[49m\u001b[43m)\u001b[49m\n\u001b[0;32m     10\u001b[0m     \u001b[38;5;28mself\u001b[39m\u001b[38;5;241m.\u001b[39marmor \u001b[38;5;241m=\u001b[39m armor\n",
      "\u001b[1;31mTypeError\u001b[0m: descriptor '__init__' requires a 'super' object but received a 'str'"
     ]
    }
   ],
   "source": [
    "class Character:\n",
    "    def __init__(self, name, health, strength):\n",
    "        self.name = name \n",
    "        self.health = health \n",
    "        self.strength = strength\n",
    "\n",
    "class Warrior(Character):\n",
    "    def __init__(self, armor):\n",
    "        super.__init__()\n",
    "        self.armor = armor\n",
    "\n",
    "class Mage(Character):\n",
    "    def __init__(self, mana):\n",
    "        super.__init__()\n",
    "        self.mana = mana\n",
    "\n",
    "\n",
    "warr = Warrior('Edzio', 100, 10, 5)\n",
    "\n",
    "print(f\"Name {warr.name}, Health: {warr.health}, Strength: {warr.strength}, Armor: {warr.armor}\")\n"
   ]
  },
  {
   "cell_type": "markdown",
   "metadata": {},
   "source": [
    "# Task 3: Ticket Reservation System\n",
    "1. Create a class `Seat` that represents a seat in a cinema. Each seat should have:\n",
    "   - `row` (the row number),\n",
    "   - `number` (the seat number),\n",
    "   - `is_reserved` (whether the seat is reserved, default is `False`).\n",
    "2. Add methods to:\n",
    "   - reserve the seat,\n",
    "   - cancel the reservation,\n",
    "   - check if the seat is free.\n",
    "3. Create a class `Cinema` that manages a list of seats and has methods to:\n",
    "   - display all seats,\n",
    "   - reserve a seat by row and number.\n",
    "4. Implement a reservation system for multiple rows.\n"
   ]
  },
  {
   "cell_type": "markdown",
   "metadata": {},
   "source": [
    "# Task 4: Bank and Bank Accounts\n",
    "1. Create a class `BankAccount` with the following attributes:\n",
    "   - `account_number` (the account number),\n",
    "   - `owner` (the account owner),\n",
    "   - `balance` (the account balance, default is 0).\n",
    "2. Add methods to:\n",
    "   - deposit money (`deposit`),\n",
    "   - withdraw money (`withdraw`),\n",
    "   - check the account balance.\n",
    "3. Create a class `Bank` that manages multiple accounts and has methods to:\n",
    "   - create new accounts,\n",
    "   - find an account by its number,\n",
    "   - display all accounts.\n",
    "4. Test the bank system by creating several accounts and performing operations on them.\n"
   ]
  },
  {
   "cell_type": "markdown",
   "metadata": {},
   "source": [
    "# Task 5: Animals in the Zoo\n",
    "1. Create a class `Animal` with the following attributes:\n",
    "   - `species` (the species),\n",
    "   - `name` (the name),\n",
    "   - `sound` (the sound it makes).\n",
    "2. Add a method `make_sound` that displays the sound made by the animal.\n",
    "3. Create subclasses inheriting from `Animal`: `Dog`, `Cat`, and `Elephant`, defining their specific sounds.\n",
    "4. Create a class `Zoo` that stores a list of animals and has methods to:\n",
    "   - add new animals,\n",
    "   - display the list of animals,\n",
    "   - make all animals produce their sounds.\n",
    "5. Implement an example with various animals in the zoo and make them produce their sounds.\n"
   ]
  }
 ],
 "metadata": {
  "kernelspec": {
   "display_name": "Python 3",
   "language": "python",
   "name": "python3"
  },
  "language_info": {
   "codemirror_mode": {
    "name": "ipython",
    "version": 3
   },
   "file_extension": ".py",
   "mimetype": "text/x-python",
   "name": "python",
   "nbconvert_exporter": "python",
   "pygments_lexer": "ipython3",
   "version": "3.12.7"
  }
 },
 "nbformat": 4,
 "nbformat_minor": 2
}
